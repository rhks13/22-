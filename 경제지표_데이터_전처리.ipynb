{
  "nbformat": 4,
  "nbformat_minor": 0,
  "metadata": {
    "colab": {
      "provenance": [],
      "include_colab_link": true
    },
    "kernelspec": {
      "name": "python3",
      "display_name": "Python 3"
    },
    "language_info": {
      "name": "python"
    }
  },
  "cells": [
    {
      "cell_type": "markdown",
      "metadata": {
        "id": "view-in-github",
        "colab_type": "text"
      },
      "source": [
        "<a href=\"https://colab.research.google.com/github/rhks13/Closure-Prediction/blob/main/%EA%B2%BD%EC%A0%9C%EC%A7%80%ED%91%9C_%EB%8D%B0%EC%9D%B4%ED%84%B0_%EC%A0%84%EC%B2%98%EB%A6%AC.ipynb\" target=\"_parent\"><img src=\"https://colab.research.google.com/assets/colab-badge.svg\" alt=\"Open In Colab\"/></a>"
      ]
    },
    {
      "cell_type": "code",
      "source": [
        "from google.colab import drive\n",
        "drive.mount('/content/drive')"
      ],
      "metadata": {
        "colab": {
          "base_uri": "https://localhost:8080/"
        },
        "id": "bAnxwyVhAORb",
        "outputId": "4426c78c-0364-4267-8eff-17d927f7286c"
      },
      "execution_count": null,
      "outputs": [
        {
          "output_type": "stream",
          "name": "stdout",
          "text": [
            "Drive already mounted at /content/drive; to attempt to forcibly remount, call drive.mount(\"/content/drive\", force_remount=True).\n"
          ]
        }
      ]
    },
    {
      "cell_type": "code",
      "source": [
        "import pandas as pd\n",
        "import numpy as np\n",
        "import pickle\n",
        "from datetime import datetime"
      ],
      "metadata": {
        "id": "oYdHdsR8AYOc"
      },
      "execution_count": null,
      "outputs": []
    },
    {
      "cell_type": "code",
      "source": [
        "# save\n",
        "with open('/content/drive/MyDrive/통계 빅데이터 공모전/data/seouldata.pickle', 'wb') as f:\n",
        "    pickle.dump(seoulfood, f, pickle.HIGHEST_PROTOCOL)\n"
      ],
      "metadata": {
        "id": "b_F5BWuMCTZg"
      },
      "execution_count": null,
      "outputs": []
    },
    {
      "cell_type": "code",
      "source": [
        "with open('/content/drive/MyDrive/통계 빅데이터 공모전/data/seouldata_경제전처리.pickle', 'rb') as f:\n",
        "    data = pickle.load(f)"
      ],
      "metadata": {
        "id": "PD3l_eUJkoHY"
      },
      "execution_count": null,
      "outputs": []
    },
    {
      "cell_type": "code",
      "source": [
        "data.columns"
      ],
      "metadata": {
        "colab": {
          "base_uri": "https://localhost:8080/"
        },
        "id": "dNE6IExMksHk",
        "outputId": "62010187-cda0-4091-e2d4-94dba5ec2c23"
      },
      "execution_count": null,
      "outputs": [
        {
          "output_type": "execute_result",
          "data": {
            "text/plain": [
              "Index(['번호', '개방서비스명', '개방서비스아이디', '개방자치단체코드', '관리번호', '인허가일자', '인허가취소일자',\n",
              "       '영업상태구분코드', '영업상태명', '상세영업상태코드', '상세영업상태명', '폐업일자', '휴업시작일자', '휴업종료일자',\n",
              "       '재개업일자', '소재지전화', '소재지면적', '소재지우편번호', '소재지전체주소', '도로명전체주소', '도로명우편번호',\n",
              "       '사업장명', '최종수정시점', '데이터갱신구분', '데이터갱신일자', '업태구분명', '좌표정보(X)', '좌표정보(Y)',\n",
              "       '위생업태명', '남성종사자수', '여성종사자수', '영업장주변구분명', '등급구분명', '급수시설구분명', '총종업원수',\n",
              "       '본사종업원수', '공장사무직종업원수', '공장판매직종업원수', '공장생산직종업원수', '건물소유구분명', '보증액',\n",
              "       '월세액', '다중이용업소여부', '시설총규모', '전통업소지정번호', '전통업소주된음식', '홈페이지',\n",
              "       '선행종합지수(2015=100)', '전국', '소비자심리지수', '소기업'],\n",
              "      dtype='object')"
            ]
          },
          "metadata": {},
          "execution_count": 26
        }
      ]
    },
    {
      "cell_type": "code",
      "source": [],
      "metadata": {
        "id": "5Oz4om7Bkr9O"
      },
      "execution_count": null,
      "outputs": []
    },
    {
      "cell_type": "code",
      "source": [
        "# load\n",
        "with open('/content/drive/MyDrive/통계 빅데이터 공모전/data/seouldata.pickle', 'rb') as f:\n",
        "    data = pickle.load(f)"
      ],
      "metadata": {
        "id": "YTS8tOdVDIhU"
      },
      "execution_count": null,
      "outputs": []
    },
    {
      "cell_type": "code",
      "source": [
        "index = pd.to_datetime(data['인허가일자'],format=\"%Y%m%d\")"
      ],
      "metadata": {
        "id": "-DY6VtToDP8l"
      },
      "execution_count": null,
      "outputs": []
    },
    {
      "cell_type": "code",
      "source": [
        "선행종합지수 = pd.read_csv(\"/content/drive/MyDrive/통계 빅데이터 공모전/data/경제 지표/경기종합지수.csv\", encoding= '\beuc-kr')"
      ],
      "metadata": {
        "id": "NadQdyvmDkcl"
      },
      "execution_count": null,
      "outputs": []
    },
    {
      "cell_type": "code",
      "source": [
        "소비자물가지수 = pd.read_csv(\"/content/drive/MyDrive/통계 빅데이터 공모전/data/경제 지표/소비자물가지수.csv\", encoding= '\beuc-kr')"
      ],
      "metadata": {
        "id": "KxPscxxiDbwt"
      },
      "execution_count": null,
      "outputs": []
    },
    {
      "cell_type": "code",
      "source": [
        "소비자심리지수 = pd.read_csv(\"/content/drive/MyDrive/통계 빅데이터 공모전/data/경제 지표/소비자심리지수.csv\",encoding= '\beuc-kr')"
      ],
      "metadata": {
        "id": "s2eIEHjBEDCX"
      },
      "execution_count": null,
      "outputs": []
    },
    {
      "cell_type": "code",
      "source": [
        "중소기업대출금리 = pd.read_excel(\"/content/drive/MyDrive/통계 빅데이터 공모전/data/경제 지표/은행_신규대출_대출금리.xlsx\", index_col=0)"
      ],
      "metadata": {
        "id": "zOolPChOEtSx"
      },
      "execution_count": null,
      "outputs": []
    },
    {
      "cell_type": "code",
      "source": [
        "data2 = pd.DataFrame(index = index)"
      ],
      "metadata": {
        "id": "jza7pf1NE44-"
      },
      "execution_count": null,
      "outputs": []
    },
    {
      "cell_type": "code",
      "source": [
        "선행종합지수 = 선행종합지수.reindex()"
      ],
      "metadata": {
        "id": "aOtUcW_ANIt-"
      },
      "execution_count": null,
      "outputs": []
    },
    {
      "cell_type": "code",
      "source": [
        "선행종합지수['시점'] = pd.to_datetime(선행종합지수['시점'][:-3].astype('str'))"
      ],
      "metadata": {
        "id": "WpKNwqdHLtX7"
      },
      "execution_count": null,
      "outputs": []
    },
    {
      "cell_type": "code",
      "source": [
        "소비자물가지수 = 소비자물가지수.reindex()\n",
        "소비자물가지수['시점'] = pd.to_datetime(소비자물가지수['시점'].astype('str'))"
      ],
      "metadata": {
        "id": "CKpAjyuvmZhI"
      },
      "execution_count": null,
      "outputs": []
    },
    {
      "cell_type": "code",
      "source": [
        "소비자심리지수 = 소비자심리지수.reindex()\n",
        "소비자심리지수['시점'] = pd.to_datetime(소비자심리지수['시점'].astype('str'))"
      ],
      "metadata": {
        "id": "Qjkj35ffmrGn"
      },
      "execution_count": null,
      "outputs": []
    },
    {
      "cell_type": "code",
      "source": [
        "#중소기업대출금리 = 중소기업대출금리.reindex()\n",
        "#중소기업대출금리['년도'] = pd.to_datetime(중소기업대출금리['년도'].astype('str'))"
      ],
      "metadata": {
        "id": "U_3DoZJtnA-7"
      },
      "execution_count": null,
      "outputs": []
    },
    {
      "cell_type": "code",
      "source": [
        "중소기업대출금리.index = pd.to_datetime(중소기업대출금리.index.astype('str')).to_period('D')"
      ],
      "metadata": {
        "id": "LxWww_XGuuRk"
      },
      "execution_count": null,
      "outputs": []
    },
    {
      "cell_type": "code",
      "source": [
        "중소기업대출금리 = 중소기업대출금리.resample('D').mean().fillna(method='ffill')"
      ],
      "metadata": {
        "id": "SzckQD1UxOY4"
      },
      "execution_count": null,
      "outputs": []
    },
    {
      "cell_type": "code",
      "source": [
        "data2"
      ],
      "metadata": {
        "colab": {
          "base_uri": "https://localhost:8080/",
          "height": 438
        },
        "id": "-2WWg2L8fXWl",
        "outputId": "8e913f36-d8fb-41dc-a188-10e02031e5e4"
      },
      "execution_count": null,
      "outputs": [
        {
          "output_type": "execute_result",
          "data": {
            "text/plain": [
              "Empty DataFrame\n",
              "Columns: []\n",
              "Index: [2017-01-02 00:00:00, 2017-01-02 00:00:00, 2017-01-02 00:00:00, 2017-01-02 00:00:00, 2017-01-02 00:00:00, 2017-01-02 00:00:00, 2017-01-02 00:00:00, 2017-01-02 00:00:00, 2017-01-02 00:00:00, 2017-01-02 00:00:00, 2017-01-02 00:00:00, 2017-01-02 00:00:00, 2017-01-02 00:00:00, 2017-01-02 00:00:00, 2017-01-02 00:00:00, 2017-01-02 00:00:00, 2017-01-02 00:00:00, 2017-01-02 00:00:00, 2017-01-02 00:00:00, 2017-01-02 00:00:00, 2017-01-02 00:00:00, 2017-01-02 00:00:00, 2017-01-02 00:00:00, 2017-01-02 00:00:00, 2017-01-02 00:00:00, 2017-01-02 00:00:00, 2017-01-02 00:00:00, 2017-01-02 00:00:00, 2017-01-02 00:00:00, 2017-01-02 00:00:00, 2017-01-02 00:00:00, 2017-01-02 00:00:00, 2017-01-02 00:00:00, 2017-01-02 00:00:00, 2017-01-02 00:00:00, 2017-01-02 00:00:00, 2017-01-02 00:00:00, 2017-01-02 00:00:00, 2017-01-02 00:00:00, 2017-01-02 00:00:00, 2017-01-02 00:00:00, 2017-01-02 00:00:00, 2017-01-02 00:00:00, 2017-01-02 00:00:00, 2017-01-02 00:00:00, 2017-01-02 00:00:00, 2017-01-02 00:00:00, 2017-01-02 00:00:00, 2017-01-02 00:00:00, 2017-01-03 00:00:00, 2017-01-03 00:00:00, 2017-01-03 00:00:00, 2017-01-03 00:00:00, 2017-01-03 00:00:00, 2017-01-03 00:00:00, 2017-01-03 00:00:00, 2017-01-03 00:00:00, 2017-01-03 00:00:00, 2017-01-03 00:00:00, 2017-01-03 00:00:00, 2017-01-03 00:00:00, 2017-01-03 00:00:00, 2017-01-03 00:00:00, 2017-01-03 00:00:00, 2017-01-03 00:00:00, 2017-01-03 00:00:00, 2017-01-03 00:00:00, 2017-01-03 00:00:00, 2017-01-03 00:00:00, 2017-01-03 00:00:00, 2017-01-03 00:00:00, 2017-01-03 00:00:00, 2017-01-03 00:00:00, 2017-01-03 00:00:00, 2017-01-03 00:00:00, 2017-01-03 00:00:00, 2017-01-03 00:00:00, 2017-01-03 00:00:00, 2017-01-03 00:00:00, 2017-01-03 00:00:00, 2017-01-03 00:00:00, 2017-01-03 00:00:00, 2017-01-03 00:00:00, 2017-01-03 00:00:00, 2017-01-03 00:00:00, 2017-01-03 00:00:00, 2017-01-03 00:00:00, 2017-01-03 00:00:00, 2017-01-03 00:00:00, 2017-01-03 00:00:00, 2017-01-03 00:00:00, 2017-01-03 00:00:00, 2017-01-03 00:00:00, 2017-01-03 00:00:00, 2017-01-03 00:00:00, 2017-01-03 00:00:00, 2017-01-03 00:00:00, 2017-01-03 00:00:00, 2017-01-03 00:00:00, 2017-01-03 00:00:00, ...]\n",
              "\n",
              "[64951 rows x 0 columns]"
            ],
            "text/html": [
              "\n",
              "  <div id=\"df-d4f05981-090a-4f4c-9436-9e811e6eaada\">\n",
              "    <div class=\"colab-df-container\">\n",
              "      <div>\n",
              "<style scoped>\n",
              "    .dataframe tbody tr th:only-of-type {\n",
              "        vertical-align: middle;\n",
              "    }\n",
              "\n",
              "    .dataframe tbody tr th {\n",
              "        vertical-align: top;\n",
              "    }\n",
              "\n",
              "    .dataframe thead th {\n",
              "        text-align: right;\n",
              "    }\n",
              "</style>\n",
              "<table border=\"1\" class=\"dataframe\">\n",
              "  <thead>\n",
              "    <tr style=\"text-align: right;\">\n",
              "      <th></th>\n",
              "    </tr>\n",
              "    <tr>\n",
              "      <th>인허가일자</th>\n",
              "    </tr>\n",
              "  </thead>\n",
              "  <tbody>\n",
              "    <tr>\n",
              "      <th>2017-01-02</th>\n",
              "    </tr>\n",
              "    <tr>\n",
              "      <th>2017-01-02</th>\n",
              "    </tr>\n",
              "    <tr>\n",
              "      <th>2017-01-02</th>\n",
              "    </tr>\n",
              "    <tr>\n",
              "      <th>2017-01-02</th>\n",
              "    </tr>\n",
              "    <tr>\n",
              "      <th>2017-01-02</th>\n",
              "    </tr>\n",
              "    <tr>\n",
              "      <th>...</th>\n",
              "    </tr>\n",
              "    <tr>\n",
              "      <th>2021-12-31</th>\n",
              "    </tr>\n",
              "    <tr>\n",
              "      <th>2021-12-31</th>\n",
              "    </tr>\n",
              "    <tr>\n",
              "      <th>2021-12-31</th>\n",
              "    </tr>\n",
              "    <tr>\n",
              "      <th>2021-12-31</th>\n",
              "    </tr>\n",
              "    <tr>\n",
              "      <th>2021-12-31</th>\n",
              "    </tr>\n",
              "  </tbody>\n",
              "</table>\n",
              "<p>64951 rows × 0 columns</p>\n",
              "</div>\n",
              "      <button class=\"colab-df-convert\" onclick=\"convertToInteractive('df-d4f05981-090a-4f4c-9436-9e811e6eaada')\"\n",
              "              title=\"Convert this dataframe to an interactive table.\"\n",
              "              style=\"display:none;\">\n",
              "        \n",
              "  <svg xmlns=\"http://www.w3.org/2000/svg\" height=\"24px\"viewBox=\"0 0 24 24\"\n",
              "       width=\"24px\">\n",
              "    <path d=\"M0 0h24v24H0V0z\" fill=\"none\"/>\n",
              "    <path d=\"M18.56 5.44l.94 2.06.94-2.06 2.06-.94-2.06-.94-.94-2.06-.94 2.06-2.06.94zm-11 1L8.5 8.5l.94-2.06 2.06-.94-2.06-.94L8.5 2.5l-.94 2.06-2.06.94zm10 10l.94 2.06.94-2.06 2.06-.94-2.06-.94-.94-2.06-.94 2.06-2.06.94z\"/><path d=\"M17.41 7.96l-1.37-1.37c-.4-.4-.92-.59-1.43-.59-.52 0-1.04.2-1.43.59L10.3 9.45l-7.72 7.72c-.78.78-.78 2.05 0 2.83L4 21.41c.39.39.9.59 1.41.59.51 0 1.02-.2 1.41-.59l7.78-7.78 2.81-2.81c.8-.78.8-2.07 0-2.86zM5.41 20L4 18.59l7.72-7.72 1.47 1.35L5.41 20z\"/>\n",
              "  </svg>\n",
              "      </button>\n",
              "      \n",
              "  <style>\n",
              "    .colab-df-container {\n",
              "      display:flex;\n",
              "      flex-wrap:wrap;\n",
              "      gap: 12px;\n",
              "    }\n",
              "\n",
              "    .colab-df-convert {\n",
              "      background-color: #E8F0FE;\n",
              "      border: none;\n",
              "      border-radius: 50%;\n",
              "      cursor: pointer;\n",
              "      display: none;\n",
              "      fill: #1967D2;\n",
              "      height: 32px;\n",
              "      padding: 0 0 0 0;\n",
              "      width: 32px;\n",
              "    }\n",
              "\n",
              "    .colab-df-convert:hover {\n",
              "      background-color: #E2EBFA;\n",
              "      box-shadow: 0px 1px 2px rgba(60, 64, 67, 0.3), 0px 1px 3px 1px rgba(60, 64, 67, 0.15);\n",
              "      fill: #174EA6;\n",
              "    }\n",
              "\n",
              "    [theme=dark] .colab-df-convert {\n",
              "      background-color: #3B4455;\n",
              "      fill: #D2E3FC;\n",
              "    }\n",
              "\n",
              "    [theme=dark] .colab-df-convert:hover {\n",
              "      background-color: #434B5C;\n",
              "      box-shadow: 0px 1px 3px 1px rgba(0, 0, 0, 0.15);\n",
              "      filter: drop-shadow(0px 1px 2px rgba(0, 0, 0, 0.3));\n",
              "      fill: #FFFFFF;\n",
              "    }\n",
              "  </style>\n",
              "\n",
              "      <script>\n",
              "        const buttonEl =\n",
              "          document.querySelector('#df-d4f05981-090a-4f4c-9436-9e811e6eaada button.colab-df-convert');\n",
              "        buttonEl.style.display =\n",
              "          google.colab.kernel.accessAllowed ? 'block' : 'none';\n",
              "\n",
              "        async function convertToInteractive(key) {\n",
              "          const element = document.querySelector('#df-d4f05981-090a-4f4c-9436-9e811e6eaada');\n",
              "          const dataTable =\n",
              "            await google.colab.kernel.invokeFunction('convertToInteractive',\n",
              "                                                     [key], {});\n",
              "          if (!dataTable) return;\n",
              "\n",
              "          const docLinkHtml = 'Like what you see? Visit the ' +\n",
              "            '<a target=\"_blank\" href=https://colab.research.google.com/notebooks/data_table.ipynb>data table notebook</a>'\n",
              "            + ' to learn more about interactive tables.';\n",
              "          element.innerHTML = '';\n",
              "          dataTable['output_type'] = 'display_data';\n",
              "          await google.colab.output.renderOutput(dataTable, element);\n",
              "          const docLink = document.createElement('div');\n",
              "          docLink.innerHTML = docLinkHtml;\n",
              "          element.appendChild(docLink);\n",
              "        }\n",
              "      </script>\n",
              "    </div>\n",
              "  </div>\n",
              "  "
            ]
          },
          "metadata": {},
          "execution_count": 21
        }
      ]
    },
    {
      "cell_type": "code",
      "source": [
        "선행종합지수"
      ],
      "metadata": {
        "colab": {
          "base_uri": "https://localhost:8080/",
          "height": 424
        },
        "id": "tMq_BMRYfZug",
        "outputId": "ccfe9d47-23f2-428c-b4f9-225ba2b18740"
      },
      "execution_count": null,
      "outputs": [
        {
          "output_type": "execute_result",
          "data": {
            "text/plain": [
              "           시점  선행종합지수(2015=100)\n",
              "0  2017-01-01             106.6\n",
              "1  2017-02-01             107.2\n",
              "2  2017-03-01             107.6\n",
              "3  2017-04-01             108.1\n",
              "4  2017-05-01             108.4\n",
              "..        ...               ...\n",
              "60 2022-01-01             128.0\n",
              "61 2022-02-01             128.0\n",
              "62        NaT             128.1\n",
              "63        NaT             128.2\n",
              "64        NaT             128.7\n",
              "\n",
              "[65 rows x 2 columns]"
            ],
            "text/html": [
              "\n",
              "  <div id=\"df-4c233956-c71d-4811-89f7-6d0a0bbbaacb\">\n",
              "    <div class=\"colab-df-container\">\n",
              "      <div>\n",
              "<style scoped>\n",
              "    .dataframe tbody tr th:only-of-type {\n",
              "        vertical-align: middle;\n",
              "    }\n",
              "\n",
              "    .dataframe tbody tr th {\n",
              "        vertical-align: top;\n",
              "    }\n",
              "\n",
              "    .dataframe thead th {\n",
              "        text-align: right;\n",
              "    }\n",
              "</style>\n",
              "<table border=\"1\" class=\"dataframe\">\n",
              "  <thead>\n",
              "    <tr style=\"text-align: right;\">\n",
              "      <th></th>\n",
              "      <th>시점</th>\n",
              "      <th>선행종합지수(2015=100)</th>\n",
              "    </tr>\n",
              "  </thead>\n",
              "  <tbody>\n",
              "    <tr>\n",
              "      <th>0</th>\n",
              "      <td>2017-01-01</td>\n",
              "      <td>106.6</td>\n",
              "    </tr>\n",
              "    <tr>\n",
              "      <th>1</th>\n",
              "      <td>2017-02-01</td>\n",
              "      <td>107.2</td>\n",
              "    </tr>\n",
              "    <tr>\n",
              "      <th>2</th>\n",
              "      <td>2017-03-01</td>\n",
              "      <td>107.6</td>\n",
              "    </tr>\n",
              "    <tr>\n",
              "      <th>3</th>\n",
              "      <td>2017-04-01</td>\n",
              "      <td>108.1</td>\n",
              "    </tr>\n",
              "    <tr>\n",
              "      <th>4</th>\n",
              "      <td>2017-05-01</td>\n",
              "      <td>108.4</td>\n",
              "    </tr>\n",
              "    <tr>\n",
              "      <th>...</th>\n",
              "      <td>...</td>\n",
              "      <td>...</td>\n",
              "    </tr>\n",
              "    <tr>\n",
              "      <th>60</th>\n",
              "      <td>2022-01-01</td>\n",
              "      <td>128.0</td>\n",
              "    </tr>\n",
              "    <tr>\n",
              "      <th>61</th>\n",
              "      <td>2022-02-01</td>\n",
              "      <td>128.0</td>\n",
              "    </tr>\n",
              "    <tr>\n",
              "      <th>62</th>\n",
              "      <td>NaT</td>\n",
              "      <td>128.1</td>\n",
              "    </tr>\n",
              "    <tr>\n",
              "      <th>63</th>\n",
              "      <td>NaT</td>\n",
              "      <td>128.2</td>\n",
              "    </tr>\n",
              "    <tr>\n",
              "      <th>64</th>\n",
              "      <td>NaT</td>\n",
              "      <td>128.7</td>\n",
              "    </tr>\n",
              "  </tbody>\n",
              "</table>\n",
              "<p>65 rows × 2 columns</p>\n",
              "</div>\n",
              "      <button class=\"colab-df-convert\" onclick=\"convertToInteractive('df-4c233956-c71d-4811-89f7-6d0a0bbbaacb')\"\n",
              "              title=\"Convert this dataframe to an interactive table.\"\n",
              "              style=\"display:none;\">\n",
              "        \n",
              "  <svg xmlns=\"http://www.w3.org/2000/svg\" height=\"24px\"viewBox=\"0 0 24 24\"\n",
              "       width=\"24px\">\n",
              "    <path d=\"M0 0h24v24H0V0z\" fill=\"none\"/>\n",
              "    <path d=\"M18.56 5.44l.94 2.06.94-2.06 2.06-.94-2.06-.94-.94-2.06-.94 2.06-2.06.94zm-11 1L8.5 8.5l.94-2.06 2.06-.94-2.06-.94L8.5 2.5l-.94 2.06-2.06.94zm10 10l.94 2.06.94-2.06 2.06-.94-2.06-.94-.94-2.06-.94 2.06-2.06.94z\"/><path d=\"M17.41 7.96l-1.37-1.37c-.4-.4-.92-.59-1.43-.59-.52 0-1.04.2-1.43.59L10.3 9.45l-7.72 7.72c-.78.78-.78 2.05 0 2.83L4 21.41c.39.39.9.59 1.41.59.51 0 1.02-.2 1.41-.59l7.78-7.78 2.81-2.81c.8-.78.8-2.07 0-2.86zM5.41 20L4 18.59l7.72-7.72 1.47 1.35L5.41 20z\"/>\n",
              "  </svg>\n",
              "      </button>\n",
              "      \n",
              "  <style>\n",
              "    .colab-df-container {\n",
              "      display:flex;\n",
              "      flex-wrap:wrap;\n",
              "      gap: 12px;\n",
              "    }\n",
              "\n",
              "    .colab-df-convert {\n",
              "      background-color: #E8F0FE;\n",
              "      border: none;\n",
              "      border-radius: 50%;\n",
              "      cursor: pointer;\n",
              "      display: none;\n",
              "      fill: #1967D2;\n",
              "      height: 32px;\n",
              "      padding: 0 0 0 0;\n",
              "      width: 32px;\n",
              "    }\n",
              "\n",
              "    .colab-df-convert:hover {\n",
              "      background-color: #E2EBFA;\n",
              "      box-shadow: 0px 1px 2px rgba(60, 64, 67, 0.3), 0px 1px 3px 1px rgba(60, 64, 67, 0.15);\n",
              "      fill: #174EA6;\n",
              "    }\n",
              "\n",
              "    [theme=dark] .colab-df-convert {\n",
              "      background-color: #3B4455;\n",
              "      fill: #D2E3FC;\n",
              "    }\n",
              "\n",
              "    [theme=dark] .colab-df-convert:hover {\n",
              "      background-color: #434B5C;\n",
              "      box-shadow: 0px 1px 3px 1px rgba(0, 0, 0, 0.15);\n",
              "      filter: drop-shadow(0px 1px 2px rgba(0, 0, 0, 0.3));\n",
              "      fill: #FFFFFF;\n",
              "    }\n",
              "  </style>\n",
              "\n",
              "      <script>\n",
              "        const buttonEl =\n",
              "          document.querySelector('#df-4c233956-c71d-4811-89f7-6d0a0bbbaacb button.colab-df-convert');\n",
              "        buttonEl.style.display =\n",
              "          google.colab.kernel.accessAllowed ? 'block' : 'none';\n",
              "\n",
              "        async function convertToInteractive(key) {\n",
              "          const element = document.querySelector('#df-4c233956-c71d-4811-89f7-6d0a0bbbaacb');\n",
              "          const dataTable =\n",
              "            await google.colab.kernel.invokeFunction('convertToInteractive',\n",
              "                                                     [key], {});\n",
              "          if (!dataTable) return;\n",
              "\n",
              "          const docLinkHtml = 'Like what you see? Visit the ' +\n",
              "            '<a target=\"_blank\" href=https://colab.research.google.com/notebooks/data_table.ipynb>data table notebook</a>'\n",
              "            + ' to learn more about interactive tables.';\n",
              "          element.innerHTML = '';\n",
              "          dataTable['output_type'] = 'display_data';\n",
              "          await google.colab.output.renderOutput(dataTable, element);\n",
              "          const docLink = document.createElement('div');\n",
              "          docLink.innerHTML = docLinkHtml;\n",
              "          element.appendChild(docLink);\n",
              "        }\n",
              "      </script>\n",
              "    </div>\n",
              "  </div>\n",
              "  "
            ]
          },
          "metadata": {},
          "execution_count": 22
        }
      ]
    },
    {
      "cell_type": "code",
      "source": [
        "pd.merge(data2, 선행종합지수, left_index=True, right_on='시점',how='left')"
      ],
      "metadata": {
        "id": "NGreq6y2nMHV"
      },
      "execution_count": null,
      "outputs": []
    },
    {
      "cell_type": "code",
      "source": [
        "data2 = data2.fillna(method='ffill').fillna(method='bfill')"
      ],
      "metadata": {
        "id": "a3MNIzbBpDEb"
      },
      "execution_count": null,
      "outputs": []
    },
    {
      "cell_type": "code",
      "source": [],
      "metadata": {
        "id": "9Spr09NL0bwk"
      },
      "execution_count": null,
      "outputs": []
    },
    {
      "cell_type": "code",
      "source": [
        "data2 = pd.merge(data2, 소비자물가지수, left_on='시점', right_on='시점', how='left').fillna(method='ffill').fillna(method='bfill')"
      ],
      "metadata": {
        "id": "TgqEsyoWn3wt"
      },
      "execution_count": null,
      "outputs": []
    },
    {
      "cell_type": "code",
      "source": [
        "data2 = pd.merge(data2, 소비자심리지수, left_on='시점', right_on='시점', how='left').fillna(method='ffill').fillna(method='bfill')"
      ],
      "metadata": {
        "id": "vYV68cPKq5Pn"
      },
      "execution_count": null,
      "outputs": []
    },
    {
      "cell_type": "code",
      "source": [
        "중소기업대출금리 = 중소기업대출금리.reset_index().rename(columns={'년도':'시점'})"
      ],
      "metadata": {
        "id": "jm8uTq5Lqlno"
      },
      "execution_count": null,
      "outputs": []
    },
    {
      "cell_type": "code",
      "source": [
        "중소기업대출금리['시점']=pd.to_datetime(중소기업대출금리['시점'].astype('str'))"
      ],
      "metadata": {
        "id": "vmXC4XOGzbe_"
      },
      "execution_count": null,
      "outputs": []
    },
    {
      "cell_type": "code",
      "source": [
        "data2 = pd.merge(data2, 중소기업대출금리, left_on='시점', right_on='시점', how='left').fillna(method='ffill').fillna(method='bfill')"
      ],
      "metadata": {
        "id": "6l1Uc1Dyq9Vt"
      },
      "execution_count": null,
      "outputs": []
    },
    {
      "cell_type": "code",
      "source": [
        "data['인허가일자']=pd.to_datetime(data['인허가일자'].astype('str'))"
      ],
      "metadata": {
        "id": "pehiekRw2Bxa"
      },
      "execution_count": null,
      "outputs": []
    },
    {
      "cell_type": "code",
      "source": [
        "중소기업대출금리"
      ],
      "metadata": {
        "id": "CmkpME7R2KFT",
        "colab": {
          "base_uri": "https://localhost:8080/",
          "height": 455
        },
        "outputId": "88cfe8be-3f44-4340-d8c5-931355f9c110"
      },
      "execution_count": null,
      "outputs": [
        {
          "output_type": "execute_result",
          "data": {
            "text/plain": [
              "             소기업\n",
              "년도              \n",
              "2017-01-01  4.60\n",
              "2017-01-02  4.60\n",
              "2017-01-03  4.60\n",
              "2017-01-04  4.60\n",
              "2017-01-05  4.60\n",
              "...          ...\n",
              "2020-12-28  3.25\n",
              "2020-12-29  3.25\n",
              "2020-12-30  3.25\n",
              "2020-12-31  3.25\n",
              "2021-01-01  4.06\n",
              "\n",
              "[1462 rows x 1 columns]"
            ],
            "text/html": [
              "\n",
              "  <div id=\"df-2ac59222-05f0-4a72-af70-53087c1bfc9d\">\n",
              "    <div class=\"colab-df-container\">\n",
              "      <div>\n",
              "<style scoped>\n",
              "    .dataframe tbody tr th:only-of-type {\n",
              "        vertical-align: middle;\n",
              "    }\n",
              "\n",
              "    .dataframe tbody tr th {\n",
              "        vertical-align: top;\n",
              "    }\n",
              "\n",
              "    .dataframe thead th {\n",
              "        text-align: right;\n",
              "    }\n",
              "</style>\n",
              "<table border=\"1\" class=\"dataframe\">\n",
              "  <thead>\n",
              "    <tr style=\"text-align: right;\">\n",
              "      <th></th>\n",
              "      <th>소기업</th>\n",
              "    </tr>\n",
              "    <tr>\n",
              "      <th>년도</th>\n",
              "      <th></th>\n",
              "    </tr>\n",
              "  </thead>\n",
              "  <tbody>\n",
              "    <tr>\n",
              "      <th>2017-01-01</th>\n",
              "      <td>4.60</td>\n",
              "    </tr>\n",
              "    <tr>\n",
              "      <th>2017-01-02</th>\n",
              "      <td>4.60</td>\n",
              "    </tr>\n",
              "    <tr>\n",
              "      <th>2017-01-03</th>\n",
              "      <td>4.60</td>\n",
              "    </tr>\n",
              "    <tr>\n",
              "      <th>2017-01-04</th>\n",
              "      <td>4.60</td>\n",
              "    </tr>\n",
              "    <tr>\n",
              "      <th>2017-01-05</th>\n",
              "      <td>4.60</td>\n",
              "    </tr>\n",
              "    <tr>\n",
              "      <th>...</th>\n",
              "      <td>...</td>\n",
              "    </tr>\n",
              "    <tr>\n",
              "      <th>2020-12-28</th>\n",
              "      <td>3.25</td>\n",
              "    </tr>\n",
              "    <tr>\n",
              "      <th>2020-12-29</th>\n",
              "      <td>3.25</td>\n",
              "    </tr>\n",
              "    <tr>\n",
              "      <th>2020-12-30</th>\n",
              "      <td>3.25</td>\n",
              "    </tr>\n",
              "    <tr>\n",
              "      <th>2020-12-31</th>\n",
              "      <td>3.25</td>\n",
              "    </tr>\n",
              "    <tr>\n",
              "      <th>2021-01-01</th>\n",
              "      <td>4.06</td>\n",
              "    </tr>\n",
              "  </tbody>\n",
              "</table>\n",
              "<p>1462 rows × 1 columns</p>\n",
              "</div>\n",
              "      <button class=\"colab-df-convert\" onclick=\"convertToInteractive('df-2ac59222-05f0-4a72-af70-53087c1bfc9d')\"\n",
              "              title=\"Convert this dataframe to an interactive table.\"\n",
              "              style=\"display:none;\">\n",
              "        \n",
              "  <svg xmlns=\"http://www.w3.org/2000/svg\" height=\"24px\"viewBox=\"0 0 24 24\"\n",
              "       width=\"24px\">\n",
              "    <path d=\"M0 0h24v24H0V0z\" fill=\"none\"/>\n",
              "    <path d=\"M18.56 5.44l.94 2.06.94-2.06 2.06-.94-2.06-.94-.94-2.06-.94 2.06-2.06.94zm-11 1L8.5 8.5l.94-2.06 2.06-.94-2.06-.94L8.5 2.5l-.94 2.06-2.06.94zm10 10l.94 2.06.94-2.06 2.06-.94-2.06-.94-.94-2.06-.94 2.06-2.06.94z\"/><path d=\"M17.41 7.96l-1.37-1.37c-.4-.4-.92-.59-1.43-.59-.52 0-1.04.2-1.43.59L10.3 9.45l-7.72 7.72c-.78.78-.78 2.05 0 2.83L4 21.41c.39.39.9.59 1.41.59.51 0 1.02-.2 1.41-.59l7.78-7.78 2.81-2.81c.8-.78.8-2.07 0-2.86zM5.41 20L4 18.59l7.72-7.72 1.47 1.35L5.41 20z\"/>\n",
              "  </svg>\n",
              "      </button>\n",
              "      \n",
              "  <style>\n",
              "    .colab-df-container {\n",
              "      display:flex;\n",
              "      flex-wrap:wrap;\n",
              "      gap: 12px;\n",
              "    }\n",
              "\n",
              "    .colab-df-convert {\n",
              "      background-color: #E8F0FE;\n",
              "      border: none;\n",
              "      border-radius: 50%;\n",
              "      cursor: pointer;\n",
              "      display: none;\n",
              "      fill: #1967D2;\n",
              "      height: 32px;\n",
              "      padding: 0 0 0 0;\n",
              "      width: 32px;\n",
              "    }\n",
              "\n",
              "    .colab-df-convert:hover {\n",
              "      background-color: #E2EBFA;\n",
              "      box-shadow: 0px 1px 2px rgba(60, 64, 67, 0.3), 0px 1px 3px 1px rgba(60, 64, 67, 0.15);\n",
              "      fill: #174EA6;\n",
              "    }\n",
              "\n",
              "    [theme=dark] .colab-df-convert {\n",
              "      background-color: #3B4455;\n",
              "      fill: #D2E3FC;\n",
              "    }\n",
              "\n",
              "    [theme=dark] .colab-df-convert:hover {\n",
              "      background-color: #434B5C;\n",
              "      box-shadow: 0px 1px 3px 1px rgba(0, 0, 0, 0.15);\n",
              "      filter: drop-shadow(0px 1px 2px rgba(0, 0, 0, 0.3));\n",
              "      fill: #FFFFFF;\n",
              "    }\n",
              "  </style>\n",
              "\n",
              "      <script>\n",
              "        const buttonEl =\n",
              "          document.querySelector('#df-2ac59222-05f0-4a72-af70-53087c1bfc9d button.colab-df-convert');\n",
              "        buttonEl.style.display =\n",
              "          google.colab.kernel.accessAllowed ? 'block' : 'none';\n",
              "\n",
              "        async function convertToInteractive(key) {\n",
              "          const element = document.querySelector('#df-2ac59222-05f0-4a72-af70-53087c1bfc9d');\n",
              "          const dataTable =\n",
              "            await google.colab.kernel.invokeFunction('convertToInteractive',\n",
              "                                                     [key], {});\n",
              "          if (!dataTable) return;\n",
              "\n",
              "          const docLinkHtml = 'Like what you see? Visit the ' +\n",
              "            '<a target=\"_blank\" href=https://colab.research.google.com/notebooks/data_table.ipynb>data table notebook</a>'\n",
              "            + ' to learn more about interactive tables.';\n",
              "          element.innerHTML = '';\n",
              "          dataTable['output_type'] = 'display_data';\n",
              "          await google.colab.output.renderOutput(dataTable, element);\n",
              "          const docLink = document.createElement('div');\n",
              "          docLink.innerHTML = docLinkHtml;\n",
              "          element.appendChild(docLink);\n",
              "        }\n",
              "      </script>\n",
              "    </div>\n",
              "  </div>\n",
              "  "
            ]
          },
          "metadata": {},
          "execution_count": 23
        }
      ]
    },
    {
      "cell_type": "code",
      "source": [
        "data3 = pd.concat([data, data2],axis=1).drop('시점',axis=1)"
      ],
      "metadata": {
        "id": "aBBazScf1N4m"
      },
      "execution_count": null,
      "outputs": []
    },
    {
      "cell_type": "code",
      "source": [
        "with open('/content/drive/MyDrive/통계 빅데이터 공모전/data/seouldata_경제전처리.pickle', 'wb') as f:\n",
        "    pickle.dump(data3, f, pickle.HIGHEST_PROTOCOL)\n"
      ],
      "metadata": {
        "id": "Q50KJXx82Y3p"
      },
      "execution_count": null,
      "outputs": []
    },
    {
      "cell_type": "markdown",
      "source": [],
      "metadata": {
        "id": "G2bM3Om-E5L_"
      }
    },
    {
      "cell_type": "code",
      "source": [
        "from google.colab import drive\n",
        "drive.mount('/content/drive')\n",
        "import pandas as pd\n",
        "import numpy as np\n",
        "import pickle\n",
        "from datetime import datetime\n",
        "# load\n",
        "with open('/content/drive/MyDrive/통계 빅데이터 공모전/data/seouldata.pickle', 'rb') as f:\n",
        "    data = pickle.load(f)\n",
        "index = pd.to_datetime(data['인허가일자'],format=\"%Y%m%d\")\n",
        "선행종합지수 = pd.read_csv(\"/content/drive/MyDrive/통계 빅데이터 공모전/data/경제 지표/경기종합지수.csv\", encoding= '\beuc-kr')\n",
        "소비자물가지수 = pd.read_csv(\"/content/drive/MyDrive/통계 빅데이터 공모전/data/경제 지표/소비자물가지수.csv\", encoding= '\beuc-kr')\n",
        "소비자심리지수 = pd.read_csv(\"/content/drive/MyDrive/통계 빅데이터 공모전/data/경제 지표/소비자심리지수.csv\",encoding= '\beuc-kr')\n",
        "중소기업대출금리 = pd.read_excel(\"/content/drive/MyDrive/통계 빅데이터 공모전/data/경제 지표/은행_신규대출_대출금리.xlsx\", index_col=0)\n",
        "\n",
        "#데이터 정리\n",
        "data2 = pd.DataFrame(index = index)\n",
        "선행종합지수 = 선행종합지수.reindex()\n",
        "선행종합지수['시점'] = pd.to_datetime(선행종합지수['시점'][:-3].astype('str'))\n",
        "소비자물가지수 = 소비자물가지수.reindex()\n",
        "소비자물가지수['시점'] = pd.to_datetime(소비자물가지수['시점'].astype('str'))\n",
        "소비자심리지수 = 소비자심리지수.reindex()\n",
        "소비자심리지수['시점'] = pd.to_datetime(소비자심리지수['시점'].astype('str'))\n",
        "중소기업대출금리.index = pd.to_datetime(중소기업대출금리.index.astype('str')).to_period('D')\n",
        "중소기업대출금리 = 중소기업대출금리.resample('D').mean().fillna(method='ffill')\n",
        "\n",
        "#데이터 병함\n",
        "pd.merge(data2, 선행종합지수, left_index=True, right_on='시점',how='left')\n",
        "data2 = data2.fillna(method='ffill').fillna(method='bfill')\n",
        "data2 = pd.merge(data2, 소비자물가지수, left_on='시점', right_on='시점', how='left').fillna(method='ffill').fillna(method='bfill')\n",
        "중소기업대출금리 = 중소기업대출금리.reset_index().rename(columns={'년도':'시점'})\n",
        "중소기업대출금리['시점']=pd.to_datetime(중소기업대출금리['시점'].astype('str'))\n",
        "data2 = pd.merge(data2, 중소기업대출금리, left_on='시점', right_on='시점', how='left').fillna(method='ffill').fillna(method='bfill')\n",
        "data['인허가일자']=pd.to_datetime(data['인허가일자'].astype('str'))\n",
        "data3 = pd.concat([data, data2],axis=1).drop('시점',axis=1)"
      ],
      "metadata": {
        "id": "wNjAuTDWCRlk"
      },
      "execution_count": null,
      "outputs": []
    }
  ]
}