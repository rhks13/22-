{
  "nbformat": 4,
  "nbformat_minor": 0,
  "metadata": {
    "colab": {
      "provenance": [],
      "include_colab_link": true
    },
    "kernelspec": {
      "name": "python3",
      "display_name": "Python 3"
    },
    "language_info": {
      "name": "python"
    }
  },
  "cells": [
    {
      "cell_type": "markdown",
      "metadata": {
        "id": "view-in-github",
        "colab_type": "text"
      },
      "source": [
        "<a href=\"https://colab.research.google.com/github/rhks13/Closure-Prediction/blob/main/%EC%83%81%EA%B6%8C%EB%8D%B0%EC%9D%B4%ED%84%B0_%EC%A0%84%EC%B2%98%EB%A6%AC.ipynb\" target=\"_parent\"><img src=\"https://colab.research.google.com/assets/colab-badge.svg\" alt=\"Open In Colab\"/></a>"
      ]
    },
    {
      "cell_type": "code",
      "execution_count": null,
      "metadata": {
        "colab": {
          "base_uri": "https://localhost:8080/"
        },
        "id": "9COyexCLmH1m",
        "outputId": "6b3210b8-4b29-4f19-eb3b-70f068b5608d"
      },
      "outputs": [
        {
          "output_type": "stream",
          "name": "stdout",
          "text": [
            "Mounted at /content/drive\n"
          ]
        }
      ],
      "source": [
        "# 드라이브 마운트\n",
        "from google.colab import drive\n",
        "drive.mount('/content/drive')"
      ]
    },
    {
      "cell_type": "code",
      "source": [
        "import pandas as pd\n",
        "import numpy as np\n",
        "import os\n",
        "from glob import glob"
      ],
      "metadata": {
        "id": "MNAhJLXmmMvQ"
      },
      "execution_count": null,
      "outputs": []
    },
    {
      "cell_type": "code",
      "source": [
        "df = pd.read_csv('/content/drive/MyDrive/통계 빅데이터 공모전/data/상권특성 병합데이터.csv', encoding=\"utf-8\")\n",
        "# df = pd.read_csv('/content/drive/MyDrive/통계 빅데이터 공모전/data/상권배후지특성 병합데이터.csv', encoding=\"utf-8\")\n",
        "df"
      ],
      "metadata": {
        "id": "deqQJ1GLmOfF"
      },
      "execution_count": null,
      "outputs": []
    },
    {
      "cell_type": "code",
      "source": [
        "df.columns"
      ],
      "metadata": {
        "colab": {
          "base_uri": "https://localhost:8080/"
        },
        "id": "eimqOTv7mtWv",
        "outputId": "0c648b3f-85d1-4a1e-ef99-266c52f55ff7"
      },
      "execution_count": null,
      "outputs": [
        {
          "output_type": "execute_result",
          "data": {
            "text/plain": [
              "Index(['기준_년_코드', '기준_분기_코드', '시군구_코드', '시군구_코드_명', '상권_변화_지표', '상권_변화_지표_명',\n",
              "       '상권_구분_코드', '상권_구분_코드_명', '상권_코드', '상권_코드_명', 'X좌표', 'Y좌표', '행정동_코드',\n",
              "       'geometry', '집객시설_수', '관공서_수', '은행_수', '종합병원_수', '일반_병원_수', '약국_수',\n",
              "       '유치원_수', '초등학교_수', '중학교_수', '고등학교_수', '대학교_수', '백화점_수', '슈퍼마켓_수',\n",
              "       '극장_수', '숙박_시설_수', '공항_수', '철도_역_수', '버스_터미널_수', '지하철_역_수', '버스_정거장_수',\n",
              "       '총_생활인구_수', '남성_생활인구_수', '여성_생활인구_수', '연령대_10_생활인구_수', '연령대_20_생활인구_수',\n",
              "       '연령대_30_생활인구_수', '연령대_40_생활인구_수', '연령대_50_생활인구_수', '연령대_60_이상_생활인구_수',\n",
              "       '아파트_단지_수', '아파트_평균_면적', '아파트_평균_시가', '총 상주인구 수', '남성 상주인구 수',\n",
              "       '여성 상주인구 수', '연령대 10 상주인구 수', '연령대 20 상주인구 수', '연령대 30 상주인구 수',\n",
              "       '연령대 40 상주인구 수', '연령대 50 상주인구 수', '연령대 60 이상 상주인구 수', '총 가구 수',\n",
              "       '아파트 가구 수', '비 아파트 가구 수', '서비스_업종_코드', '서비스_업종_코드_명', '분기당_매출_금액',\n",
              "       '분기당_매출_건수', '주중_매출_비율', '주말_매출_비율', '점포수', '유사_업종_점포_수', '개업_율',\n",
              "       '폐업_률', '프랜차이즈_점포_수'],\n",
              "      dtype='object')"
            ]
          },
          "metadata": {},
          "execution_count": 53
        }
      ]
    },
    {
      "cell_type": "code",
      "source": [
        "df.info()"
      ],
      "metadata": {
        "id": "LrVXcNdAIKjF",
        "outputId": "f44f90c4-f834-495f-b585-75eec570b804",
        "colab": {
          "base_uri": "https://localhost:8080/"
        }
      },
      "execution_count": null,
      "outputs": [
        {
          "output_type": "stream",
          "name": "stdout",
          "text": [
            "<class 'pandas.core.frame.DataFrame'>\n",
            "RangeIndex: 196998 entries, 0 to 196997\n",
            "Data columns (total 69 columns):\n",
            " #   Column            Non-Null Count   Dtype  \n",
            "---  ------            --------------   -----  \n",
            " 0   기준_년_코드           196998 non-null  int64  \n",
            " 1   기준_분기_코드          196998 non-null  int64  \n",
            " 2   시군구_코드            196998 non-null  int64  \n",
            " 3   시군구_코드_명          196998 non-null  object \n",
            " 4   상권_변화_지표          196998 non-null  object \n",
            " 5   상권_변화_지표_명        196998 non-null  object \n",
            " 6   상권_구분_코드          196998 non-null  object \n",
            " 7   상권_구분_코드_명        196998 non-null  object \n",
            " 8   상권_코드             196998 non-null  int64  \n",
            " 9   상권_코드_명           196998 non-null  object \n",
            " 10  X좌표               196998 non-null  float64\n",
            " 11  Y좌표               196998 non-null  float64\n",
            " 12  행정동_코드            196998 non-null  int64  \n",
            " 13  geometry          196998 non-null  object \n",
            " 14  집객시설_수            192878 non-null  float64\n",
            " 15  관공서_수             192878 non-null  float64\n",
            " 16  은행_수              192878 non-null  float64\n",
            " 17  종합병원_수            192878 non-null  float64\n",
            " 18  일반_병원_수           192878 non-null  float64\n",
            " 19  약국_수              192878 non-null  float64\n",
            " 20  유치원_수             192878 non-null  float64\n",
            " 21  초등학교_수            192878 non-null  float64\n",
            " 22  중학교_수             192878 non-null  float64\n",
            " 23  고등학교_수            192878 non-null  float64\n",
            " 24  대학교_수             192878 non-null  float64\n",
            " 25  백화점_수             192878 non-null  float64\n",
            " 26  슈퍼마켓_수            192878 non-null  float64\n",
            " 27  극장_수              192878 non-null  float64\n",
            " 28  숙박_시설_수           192878 non-null  float64\n",
            " 29  공항_수              192878 non-null  float64\n",
            " 30  철도_역_수            192878 non-null  float64\n",
            " 31  버스_터미널_수          192878 non-null  float64\n",
            " 32  지하철_역_수           192878 non-null  float64\n",
            " 33  버스_정거장_수          192878 non-null  float64\n",
            " 34  총_생활인구_수          196945 non-null  float64\n",
            " 35  남성_생활인구_수         196945 non-null  float64\n",
            " 36  여성_생활인구_수         196945 non-null  float64\n",
            " 37  연령대_10_생활인구_수     196945 non-null  float64\n",
            " 38  연령대_20_생활인구_수     196945 non-null  float64\n",
            " 39  연령대_30_생활인구_수     196945 non-null  float64\n",
            " 40  연령대_40_생활인구_수     196945 non-null  float64\n",
            " 41  연령대_50_생활인구_수     196945 non-null  float64\n",
            " 42  연령대_60_이상_생활인구_수  196945 non-null  float64\n",
            " 43  아파트_단지_수          179425 non-null  float64\n",
            " 44  아파트_평균_면적         179425 non-null  float64\n",
            " 45  아파트_평균_시가         179425 non-null  float64\n",
            " 46  총 상주인구 수          195308 non-null  float64\n",
            " 47  남성 상주인구 수         195308 non-null  float64\n",
            " 48  여성 상주인구 수         195308 non-null  float64\n",
            " 49  연령대 10 상주인구 수     195308 non-null  float64\n",
            " 50  연령대 20 상주인구 수     195308 non-null  float64\n",
            " 51  연령대 30 상주인구 수     195308 non-null  float64\n",
            " 52  연령대 40 상주인구 수     195308 non-null  float64\n",
            " 53  연령대 50 상주인구 수     195308 non-null  float64\n",
            " 54  연령대 60 이상 상주인구 수  195308 non-null  float64\n",
            " 55  총 가구 수            195308 non-null  float64\n",
            " 56  아파트 가구 수          195308 non-null  float64\n",
            " 57  비 아파트 가구 수        195308 non-null  float64\n",
            " 58  서비스_업종_코드         195778 non-null  object \n",
            " 59  서비스_업종_코드_명       195778 non-null  object \n",
            " 60  분기당_매출_금액         195778 non-null  float64\n",
            " 61  분기당_매출_건수         195778 non-null  float64\n",
            " 62  주중_매출_비율          195778 non-null  float64\n",
            " 63  주말_매출_비율          195778 non-null  float64\n",
            " 64  점포수               195778 non-null  float64\n",
            " 65  유사_업종_점포_수        193171 non-null  float64\n",
            " 66  개업_율              193171 non-null  float64\n",
            " 67  폐업_률              193171 non-null  float64\n",
            " 68  프랜차이즈_점포_수        193171 non-null  float64\n",
            "dtypes: float64(55), int64(5), object(9)\n",
            "memory usage: 103.7+ MB\n"
          ]
        }
      ]
    },
    {
      "cell_type": "code",
      "source": [
        "시군구코드 = df['시군구_코드'].unique()\n",
        "시군구코드명 = df['시군구_코드_명'].unique()\n",
        "시군구코드 = pd.DataFrame({'시군구코드':시군구코드,'시군구코드명':시군구코드명})\n",
        "시군구코드.to_csv('/content/drive/MyDrive/통계 빅데이터 공모전/data/시군구코드.csv')"
      ],
      "metadata": {
        "id": "WSyCE6WZMAWp"
      },
      "execution_count": null,
      "outputs": []
    },
    {
      "cell_type": "code",
      "source": [
        "상권코드 = df['상권_코드'].unique()\n",
        "상권코드명 = df['상권_코드_명'].unique()\n",
        "상권코드 = pd.DataFrame({'상권코드':상권코드,'상권코드명':상권코드명})\n",
        "상권코드.to_csv('/content/drive/MyDrive/통계 빅데이터 공모전/data/상권코드.csv')"
      ],
      "metadata": {
        "id": "J6ZdT2CbNvXY"
      },
      "execution_count": null,
      "outputs": []
    },
    {
      "cell_type": "code",
      "source": [
        "df= df.drop(columns=['상권_변화_지표','상권_구분_코드','상권_코드_명','X좌표','Y좌표','geometry'])"
      ],
      "metadata": {
        "id": "amGhzWs3o904"
      },
      "execution_count": null,
      "outputs": []
    },
    {
      "cell_type": "code",
      "source": [
        "df.loc[:,'총_가구_수':'비_아파트_가구_수']"
      ],
      "metadata": {
        "colab": {
          "base_uri": "https://localhost:8080/",
          "height": 424
        },
        "id": "su922OCBphLu",
        "outputId": "9620ac6f-0e88-4699-890f-39aca0b77767"
      },
      "execution_count": null,
      "outputs": [
        {
          "output_type": "execute_result",
          "data": {
            "text/plain": [
              "        총_가구_수  아파트_가구_수  비_아파트_가구_수\n",
              "0       7056.0    2184.0      4872.0\n",
              "1       7056.0    2184.0      4872.0\n",
              "2       7056.0    2184.0      4872.0\n",
              "3       7056.0    2184.0      4872.0\n",
              "4       7056.0    2184.0      4872.0\n",
              "...        ...       ...         ...\n",
              "213508     NaN       NaN         NaN\n",
              "213509     NaN       NaN         NaN\n",
              "213510     NaN       NaN         NaN\n",
              "213511     NaN       NaN         NaN\n",
              "213512     NaN       NaN         NaN\n",
              "\n",
              "[213513 rows x 3 columns]"
            ],
            "text/html": [
              "\n",
              "  <div id=\"df-613beab2-8345-4ff7-ba2e-11e5413f2bdd\">\n",
              "    <div class=\"colab-df-container\">\n",
              "      <div>\n",
              "<style scoped>\n",
              "    .dataframe tbody tr th:only-of-type {\n",
              "        vertical-align: middle;\n",
              "    }\n",
              "\n",
              "    .dataframe tbody tr th {\n",
              "        vertical-align: top;\n",
              "    }\n",
              "\n",
              "    .dataframe thead th {\n",
              "        text-align: right;\n",
              "    }\n",
              "</style>\n",
              "<table border=\"1\" class=\"dataframe\">\n",
              "  <thead>\n",
              "    <tr style=\"text-align: right;\">\n",
              "      <th></th>\n",
              "      <th>총_가구_수</th>\n",
              "      <th>아파트_가구_수</th>\n",
              "      <th>비_아파트_가구_수</th>\n",
              "    </tr>\n",
              "  </thead>\n",
              "  <tbody>\n",
              "    <tr>\n",
              "      <th>0</th>\n",
              "      <td>7056.0</td>\n",
              "      <td>2184.0</td>\n",
              "      <td>4872.0</td>\n",
              "    </tr>\n",
              "    <tr>\n",
              "      <th>1</th>\n",
              "      <td>7056.0</td>\n",
              "      <td>2184.0</td>\n",
              "      <td>4872.0</td>\n",
              "    </tr>\n",
              "    <tr>\n",
              "      <th>2</th>\n",
              "      <td>7056.0</td>\n",
              "      <td>2184.0</td>\n",
              "      <td>4872.0</td>\n",
              "    </tr>\n",
              "    <tr>\n",
              "      <th>3</th>\n",
              "      <td>7056.0</td>\n",
              "      <td>2184.0</td>\n",
              "      <td>4872.0</td>\n",
              "    </tr>\n",
              "    <tr>\n",
              "      <th>4</th>\n",
              "      <td>7056.0</td>\n",
              "      <td>2184.0</td>\n",
              "      <td>4872.0</td>\n",
              "    </tr>\n",
              "    <tr>\n",
              "      <th>...</th>\n",
              "      <td>...</td>\n",
              "      <td>...</td>\n",
              "      <td>...</td>\n",
              "    </tr>\n",
              "    <tr>\n",
              "      <th>213508</th>\n",
              "      <td>NaN</td>\n",
              "      <td>NaN</td>\n",
              "      <td>NaN</td>\n",
              "    </tr>\n",
              "    <tr>\n",
              "      <th>213509</th>\n",
              "      <td>NaN</td>\n",
              "      <td>NaN</td>\n",
              "      <td>NaN</td>\n",
              "    </tr>\n",
              "    <tr>\n",
              "      <th>213510</th>\n",
              "      <td>NaN</td>\n",
              "      <td>NaN</td>\n",
              "      <td>NaN</td>\n",
              "    </tr>\n",
              "    <tr>\n",
              "      <th>213511</th>\n",
              "      <td>NaN</td>\n",
              "      <td>NaN</td>\n",
              "      <td>NaN</td>\n",
              "    </tr>\n",
              "    <tr>\n",
              "      <th>213512</th>\n",
              "      <td>NaN</td>\n",
              "      <td>NaN</td>\n",
              "      <td>NaN</td>\n",
              "    </tr>\n",
              "  </tbody>\n",
              "</table>\n",
              "<p>213513 rows × 3 columns</p>\n",
              "</div>\n",
              "      <button class=\"colab-df-convert\" onclick=\"convertToInteractive('df-613beab2-8345-4ff7-ba2e-11e5413f2bdd')\"\n",
              "              title=\"Convert this dataframe to an interactive table.\"\n",
              "              style=\"display:none;\">\n",
              "        \n",
              "  <svg xmlns=\"http://www.w3.org/2000/svg\" height=\"24px\"viewBox=\"0 0 24 24\"\n",
              "       width=\"24px\">\n",
              "    <path d=\"M0 0h24v24H0V0z\" fill=\"none\"/>\n",
              "    <path d=\"M18.56 5.44l.94 2.06.94-2.06 2.06-.94-2.06-.94-.94-2.06-.94 2.06-2.06.94zm-11 1L8.5 8.5l.94-2.06 2.06-.94-2.06-.94L8.5 2.5l-.94 2.06-2.06.94zm10 10l.94 2.06.94-2.06 2.06-.94-2.06-.94-.94-2.06-.94 2.06-2.06.94z\"/><path d=\"M17.41 7.96l-1.37-1.37c-.4-.4-.92-.59-1.43-.59-.52 0-1.04.2-1.43.59L10.3 9.45l-7.72 7.72c-.78.78-.78 2.05 0 2.83L4 21.41c.39.39.9.59 1.41.59.51 0 1.02-.2 1.41-.59l7.78-7.78 2.81-2.81c.8-.78.8-2.07 0-2.86zM5.41 20L4 18.59l7.72-7.72 1.47 1.35L5.41 20z\"/>\n",
              "  </svg>\n",
              "      </button>\n",
              "      \n",
              "  <style>\n",
              "    .colab-df-container {\n",
              "      display:flex;\n",
              "      flex-wrap:wrap;\n",
              "      gap: 12px;\n",
              "    }\n",
              "\n",
              "    .colab-df-convert {\n",
              "      background-color: #E8F0FE;\n",
              "      border: none;\n",
              "      border-radius: 50%;\n",
              "      cursor: pointer;\n",
              "      display: none;\n",
              "      fill: #1967D2;\n",
              "      height: 32px;\n",
              "      padding: 0 0 0 0;\n",
              "      width: 32px;\n",
              "    }\n",
              "\n",
              "    .colab-df-convert:hover {\n",
              "      background-color: #E2EBFA;\n",
              "      box-shadow: 0px 1px 2px rgba(60, 64, 67, 0.3), 0px 1px 3px 1px rgba(60, 64, 67, 0.15);\n",
              "      fill: #174EA6;\n",
              "    }\n",
              "\n",
              "    [theme=dark] .colab-df-convert {\n",
              "      background-color: #3B4455;\n",
              "      fill: #D2E3FC;\n",
              "    }\n",
              "\n",
              "    [theme=dark] .colab-df-convert:hover {\n",
              "      background-color: #434B5C;\n",
              "      box-shadow: 0px 1px 3px 1px rgba(0, 0, 0, 0.15);\n",
              "      filter: drop-shadow(0px 1px 2px rgba(0, 0, 0, 0.3));\n",
              "      fill: #FFFFFF;\n",
              "    }\n",
              "  </style>\n",
              "\n",
              "      <script>\n",
              "        const buttonEl =\n",
              "          document.querySelector('#df-613beab2-8345-4ff7-ba2e-11e5413f2bdd button.colab-df-convert');\n",
              "        buttonEl.style.display =\n",
              "          google.colab.kernel.accessAllowed ? 'block' : 'none';\n",
              "\n",
              "        async function convertToInteractive(key) {\n",
              "          const element = document.querySelector('#df-613beab2-8345-4ff7-ba2e-11e5413f2bdd');\n",
              "          const dataTable =\n",
              "            await google.colab.kernel.invokeFunction('convertToInteractive',\n",
              "                                                     [key], {});\n",
              "          if (!dataTable) return;\n",
              "\n",
              "          const docLinkHtml = 'Like what you see? Visit the ' +\n",
              "            '<a target=\"_blank\" href=https://colab.research.google.com/notebooks/data_table.ipynb>data table notebook</a>'\n",
              "            + ' to learn more about interactive tables.';\n",
              "          element.innerHTML = '';\n",
              "          dataTable['output_type'] = 'display_data';\n",
              "          await google.colab.output.renderOutput(dataTable, element);\n",
              "          const docLink = document.createElement('div');\n",
              "          docLink.innerHTML = docLinkHtml;\n",
              "          element.appendChild(docLink);\n",
              "        }\n",
              "      </script>\n",
              "    </div>\n",
              "  </div>\n",
              "  "
            ]
          },
          "metadata": {},
          "execution_count": 47
        }
      ]
    },
    {
      "cell_type": "code",
      "source": [
        "df['초등학교_수']"
      ],
      "metadata": {
        "id": "oHvy3Hr8puK2",
        "colab": {
          "base_uri": "https://localhost:8080/"
        },
        "outputId": "4fcd0b6e-4c17-48a1-abae-6a776ffbed01"
      },
      "execution_count": null,
      "outputs": [
        {
          "output_type": "execute_result",
          "data": {
            "text/plain": [
              "0         0.0\n",
              "1         0.0\n",
              "2         0.0\n",
              "3         0.0\n",
              "4         0.0\n",
              "         ... \n",
              "213508    NaN\n",
              "213509    NaN\n",
              "213510    NaN\n",
              "213511    NaN\n",
              "213512    NaN\n",
              "Name: 초등학교_수, Length: 213513, dtype: float64"
            ]
          },
          "metadata": {},
          "execution_count": 48
        }
      ]
    },
    {
      "cell_type": "code",
      "source": [
        "df['학교_수'] = df['초등학교_수']+df['중학교_수']+df['고등학교_수']\n"
      ],
      "metadata": {
        "id": "IHpGa-ZnP8YO"
      },
      "execution_count": null,
      "outputs": []
    },
    {
      "cell_type": "code",
      "source": [
        "df['학교_수'].plot()"
      ],
      "metadata": {
        "colab": {
          "base_uri": "https://localhost:8080/",
          "height": 284
        },
        "id": "91kIJ7S3QBBX",
        "outputId": "2ee5a423-ade4-4697-eebf-3759ef97b0a5"
      },
      "execution_count": null,
      "outputs": [
        {
          "output_type": "execute_result",
          "data": {
            "text/plain": [
              "<matplotlib.axes._subplots.AxesSubplot at 0x7ff5317d4a90>"
            ]
          },
          "metadata": {},
          "execution_count": 50
        },
        {
          "output_type": "display_data",
          "data": {
            "text/plain": [
              "<Figure size 432x288 with 1 Axes>"
            ],
            "image/png": "[encoded data removed]"
          },
          "metadata": {
            "needs_background": "light"
          }
        }
      ]
    },
    {
      "cell_type": "code",
      "source": [
        "# df.to_csv('/content/drive/MyDrive/통계 빅데이터 공모전/data/상권특성 병합데이터fin.csv')\n",
        "df.to_csv('/content/drive/MyDrive/통계 빅데이터 공모전/data/상권배후지특성 병합데이터fin.csv')"
      ],
      "metadata": {
        "id": "r9hWArrEQ8bL"
      },
      "execution_count": null,
      "outputs": []
    },
    {
      "cell_type": "code",
      "source": [],
      "metadata": {
        "id": "DyhICtOYRRCP"
      },
      "execution_count": null,
      "outputs": []
    }
  ]
}